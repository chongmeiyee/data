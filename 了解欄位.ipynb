{
 "cells": [
  {
   "cell_type": "code",
   "execution_count": 1,
   "metadata": {},
   "outputs": [],
   "source": [
    "import pandas as pd\n",
    "import numpy as np"
   ]
  },
  {
   "cell_type": "code",
   "execution_count": 4,
   "metadata": {},
   "outputs": [
    {
     "data": {
      "text/html": [
       "<div>\n",
       "<style scoped>\n",
       "    .dataframe tbody tr th:only-of-type {\n",
       "        vertical-align: middle;\n",
       "    }\n",
       "\n",
       "    .dataframe tbody tr th {\n",
       "        vertical-align: top;\n",
       "    }\n",
       "\n",
       "    .dataframe thead th {\n",
       "        text-align: right;\n",
       "    }\n",
       "</style>\n",
       "<table border=\"1\" class=\"dataframe\">\n",
       "  <thead>\n",
       "    <tr style=\"text-align: right;\">\n",
       "      <th></th>\n",
       "      <th>年月</th>\n",
       "      <th>地區</th>\n",
       "      <th>產業別</th>\n",
       "      <th>性別</th>\n",
       "      <th>年齡層</th>\n",
       "      <th>信用卡交易筆數</th>\n",
       "      <th>信用卡交易金額[新台幣]</th>\n",
       "    </tr>\n",
       "  </thead>\n",
       "  <tbody>\n",
       "    <tr>\n",
       "      <th>0</th>\n",
       "      <td>201401</td>\n",
       "      <td>63000000</td>\n",
       "      <td>食</td>\n",
       "      <td>2</td>\n",
       "      <td>未滿20歲</td>\n",
       "      <td>2819</td>\n",
       "      <td>2615745</td>\n",
       "    </tr>\n",
       "    <tr>\n",
       "      <th>1</th>\n",
       "      <td>201401</td>\n",
       "      <td>63000000</td>\n",
       "      <td>食</td>\n",
       "      <td>2</td>\n",
       "      <td>20(含)-25歲</td>\n",
       "      <td>66270</td>\n",
       "      <td>66794381</td>\n",
       "    </tr>\n",
       "    <tr>\n",
       "      <th>2</th>\n",
       "      <td>201401</td>\n",
       "      <td>63000000</td>\n",
       "      <td>食</td>\n",
       "      <td>2</td>\n",
       "      <td>25(含)-30歲</td>\n",
       "      <td>227091</td>\n",
       "      <td>263753101</td>\n",
       "    </tr>\n",
       "    <tr>\n",
       "      <th>3</th>\n",
       "      <td>201401</td>\n",
       "      <td>63000000</td>\n",
       "      <td>食</td>\n",
       "      <td>2</td>\n",
       "      <td>30(含)-35歲</td>\n",
       "      <td>396113</td>\n",
       "      <td>490378285</td>\n",
       "    </tr>\n",
       "    <tr>\n",
       "      <th>4</th>\n",
       "      <td>201401</td>\n",
       "      <td>63000000</td>\n",
       "      <td>食</td>\n",
       "      <td>2</td>\n",
       "      <td>35(含)-40歲</td>\n",
       "      <td>498370</td>\n",
       "      <td>618092602</td>\n",
       "    </tr>\n",
       "  </tbody>\n",
       "</table>\n",
       "</div>"
      ],
      "text/plain": [
       "       年月        地區 產業別  性別        年齡層  信用卡交易筆數  信用卡交易金額[新台幣]\n",
       "0  201401  63000000   食   2      未滿20歲     2819       2615745\n",
       "1  201401  63000000   食   2  20(含)-25歲    66270      66794381\n",
       "2  201401  63000000   食   2  25(含)-30歲   227091     263753101\n",
       "3  201401  63000000   食   2  30(含)-35歲   396113     490378285\n",
       "4  201401  63000000   食   2  35(含)-40歲   498370     618092602"
      ]
     },
     "execution_count": 4,
     "metadata": {},
     "output_type": "execute_result"
    }
   ],
   "source": [
    "data1 = pd.read_csv('各年齡層女性持卡人於六都消費樣態.CSV')\n",
    "data1.head()"
   ]
  },
  {
   "cell_type": "code",
   "execution_count": 5,
   "metadata": {},
   "outputs": [
    {
     "data": {
      "text/html": [
       "<div>\n",
       "<style scoped>\n",
       "    .dataframe tbody tr th:only-of-type {\n",
       "        vertical-align: middle;\n",
       "    }\n",
       "\n",
       "    .dataframe tbody tr th {\n",
       "        vertical-align: top;\n",
       "    }\n",
       "\n",
       "    .dataframe thead th {\n",
       "        text-align: right;\n",
       "    }\n",
       "</style>\n",
       "<table border=\"1\" class=\"dataframe\">\n",
       "  <thead>\n",
       "    <tr style=\"text-align: right;\">\n",
       "      <th></th>\n",
       "      <th>年月</th>\n",
       "      <th>地區</th>\n",
       "      <th>產業別</th>\n",
       "      <th>性別</th>\n",
       "      <th>年齡層</th>\n",
       "      <th>信用卡交易筆數</th>\n",
       "      <th>信用卡交易金額[新台幣]</th>\n",
       "    </tr>\n",
       "  </thead>\n",
       "  <tbody>\n",
       "    <tr>\n",
       "      <th>0</th>\n",
       "      <td>201401</td>\n",
       "      <td>63000000</td>\n",
       "      <td>食</td>\n",
       "      <td>1</td>\n",
       "      <td>未滿20歲</td>\n",
       "      <td>2517</td>\n",
       "      <td>6593139</td>\n",
       "    </tr>\n",
       "    <tr>\n",
       "      <th>1</th>\n",
       "      <td>201401</td>\n",
       "      <td>63000000</td>\n",
       "      <td>食</td>\n",
       "      <td>1</td>\n",
       "      <td>20(含)-25歲</td>\n",
       "      <td>33808</td>\n",
       "      <td>39858219</td>\n",
       "    </tr>\n",
       "    <tr>\n",
       "      <th>2</th>\n",
       "      <td>201401</td>\n",
       "      <td>63000000</td>\n",
       "      <td>食</td>\n",
       "      <td>1</td>\n",
       "      <td>25(含)-30歲</td>\n",
       "      <td>165901</td>\n",
       "      <td>217570879</td>\n",
       "    </tr>\n",
       "    <tr>\n",
       "      <th>3</th>\n",
       "      <td>201401</td>\n",
       "      <td>63000000</td>\n",
       "      <td>食</td>\n",
       "      <td>1</td>\n",
       "      <td>30(含)-35歲</td>\n",
       "      <td>332190</td>\n",
       "      <td>461164007</td>\n",
       "    </tr>\n",
       "    <tr>\n",
       "      <th>4</th>\n",
       "      <td>201401</td>\n",
       "      <td>63000000</td>\n",
       "      <td>食</td>\n",
       "      <td>1</td>\n",
       "      <td>35(含)-40歲</td>\n",
       "      <td>401017</td>\n",
       "      <td>579782560</td>\n",
       "    </tr>\n",
       "  </tbody>\n",
       "</table>\n",
       "</div>"
      ],
      "text/plain": [
       "       年月        地區 產業別  性別        年齡層  信用卡交易筆數  信用卡交易金額[新台幣]\n",
       "0  201401  63000000   食   1      未滿20歲     2517       6593139\n",
       "1  201401  63000000   食   1  20(含)-25歲    33808      39858219\n",
       "2  201401  63000000   食   1  25(含)-30歲   165901     217570879\n",
       "3  201401  63000000   食   1  30(含)-35歲   332190     461164007\n",
       "4  201401  63000000   食   1  35(含)-40歲   401017     579782560"
      ]
     },
     "execution_count": 5,
     "metadata": {},
     "output_type": "execute_result"
    }
   ],
   "source": [
    "data2 = pd.read_csv('各年齡層男性持卡人於六都消費樣態.CSV')\n",
    "data2.head()"
   ]
  },
  {
   "cell_type": "code",
   "execution_count": 6,
   "metadata": {},
   "outputs": [
    {
     "data": {
      "text/html": [
       "<div>\n",
       "<style scoped>\n",
       "    .dataframe tbody tr th:only-of-type {\n",
       "        vertical-align: middle;\n",
       "    }\n",
       "\n",
       "    .dataframe tbody tr th {\n",
       "        vertical-align: top;\n",
       "    }\n",
       "\n",
       "    .dataframe thead th {\n",
       "        text-align: right;\n",
       "    }\n",
       "</style>\n",
       "<table border=\"1\" class=\"dataframe\">\n",
       "  <thead>\n",
       "    <tr style=\"text-align: right;\">\n",
       "      <th></th>\n",
       "      <th>年月</th>\n",
       "      <th>地區</th>\n",
       "      <th>性別</th>\n",
       "      <th>信用卡交易筆數</th>\n",
       "      <th>信用卡交易金額[新台幣]</th>\n",
       "    </tr>\n",
       "  </thead>\n",
       "  <tbody>\n",
       "    <tr>\n",
       "      <th>count</th>\n",
       "      <td>59388.000000</td>\n",
       "      <td>5.938800e+04</td>\n",
       "      <td>59388.0</td>\n",
       "      <td>5.938800e+04</td>\n",
       "      <td>5.938800e+04</td>\n",
       "    </tr>\n",
       "    <tr>\n",
       "      <th>mean</th>\n",
       "      <td>201778.603960</td>\n",
       "      <td>6.550000e+07</td>\n",
       "      <td>2.0</td>\n",
       "      <td>6.910134e+04</td>\n",
       "      <td>1.556900e+08</td>\n",
       "    </tr>\n",
       "    <tr>\n",
       "      <th>std</th>\n",
       "      <td>243.504102</td>\n",
       "      <td>1.707840e+06</td>\n",
       "      <td>0.0</td>\n",
       "      <td>2.125277e+05</td>\n",
       "      <td>5.705419e+08</td>\n",
       "    </tr>\n",
       "    <tr>\n",
       "      <th>min</th>\n",
       "      <td>201401.000000</td>\n",
       "      <td>6.300000e+07</td>\n",
       "      <td>2.0</td>\n",
       "      <td>1.000000e+01</td>\n",
       "      <td>2.502200e+04</td>\n",
       "    </tr>\n",
       "    <tr>\n",
       "      <th>25%</th>\n",
       "      <td>201602.000000</td>\n",
       "      <td>6.400000e+07</td>\n",
       "      <td>2.0</td>\n",
       "      <td>2.532500e+03</td>\n",
       "      <td>6.804110e+06</td>\n",
       "    </tr>\n",
       "    <tr>\n",
       "      <th>50%</th>\n",
       "      <td>201803.000000</td>\n",
       "      <td>6.550000e+07</td>\n",
       "      <td>2.0</td>\n",
       "      <td>1.565800e+04</td>\n",
       "      <td>4.177151e+07</td>\n",
       "    </tr>\n",
       "    <tr>\n",
       "      <th>75%</th>\n",
       "      <td>202004.000000</td>\n",
       "      <td>6.700000e+07</td>\n",
       "      <td>2.0</td>\n",
       "      <td>4.840700e+04</td>\n",
       "      <td>1.128995e+08</td>\n",
       "    </tr>\n",
       "    <tr>\n",
       "      <th>max</th>\n",
       "      <td>202205.000000</td>\n",
       "      <td>6.800000e+07</td>\n",
       "      <td>2.0</td>\n",
       "      <td>3.300227e+06</td>\n",
       "      <td>2.191190e+10</td>\n",
       "    </tr>\n",
       "  </tbody>\n",
       "</table>\n",
       "</div>"
      ],
      "text/plain": [
       "                  年月            地區       性別       信用卡交易筆數  信用卡交易金額[新台幣]\n",
       "count   59388.000000  5.938800e+04  59388.0  5.938800e+04  5.938800e+04\n",
       "mean   201778.603960  6.550000e+07      2.0  6.910134e+04  1.556900e+08\n",
       "std       243.504102  1.707840e+06      0.0  2.125277e+05  5.705419e+08\n",
       "min    201401.000000  6.300000e+07      2.0  1.000000e+01  2.502200e+04\n",
       "25%    201602.000000  6.400000e+07      2.0  2.532500e+03  6.804110e+06\n",
       "50%    201803.000000  6.550000e+07      2.0  1.565800e+04  4.177151e+07\n",
       "75%    202004.000000  6.700000e+07      2.0  4.840700e+04  1.128995e+08\n",
       "max    202205.000000  6.800000e+07      2.0  3.300227e+06  2.191190e+10"
      ]
     },
     "execution_count": 6,
     "metadata": {},
     "output_type": "execute_result"
    }
   ],
   "source": [
    "data1.describe()"
   ]
  },
  {
   "cell_type": "code",
   "execution_count": 7,
   "metadata": {},
   "outputs": [
    {
     "name": "stdout",
     "output_type": "stream",
     "text": [
      "<class 'pandas.core.frame.DataFrame'>\n",
      "RangeIndex: 59388 entries, 0 to 59387\n",
      "Data columns (total 7 columns):\n",
      " #   Column        Non-Null Count  Dtype \n",
      "---  ------        --------------  ----- \n",
      " 0   年月            59388 non-null  int64 \n",
      " 1   地區            59388 non-null  int64 \n",
      " 2   產業別           59388 non-null  object\n",
      " 3   性別            59388 non-null  int64 \n",
      " 4   年齡層           59388 non-null  object\n",
      " 5   信用卡交易筆數       59388 non-null  int64 \n",
      " 6   信用卡交易金額[新台幣]  59388 non-null  int64 \n",
      "dtypes: int64(5), object(2)\n",
      "memory usage: 3.2+ MB\n"
     ]
    }
   ],
   "source": [
    "data1.info() #檢視資料型態"
   ]
  },
  {
   "cell_type": "code",
   "execution_count": 11,
   "metadata": {},
   "outputs": [
    {
     "name": "stdout",
     "output_type": "stream",
     "text": [
      "<class 'pandas.core.frame.DataFrame'>\n",
      "RangeIndex: 59388 entries, 0 to 59387\n",
      "Data columns (total 7 columns):\n",
      " #   Column        Non-Null Count  Dtype \n",
      "---  ------        --------------  ----- \n",
      " 0   年月            59388 non-null  int64 \n",
      " 1   地區            59388 non-null  int64 \n",
      " 2   產業別           59388 non-null  object\n",
      " 3   性別            59388 non-null  int64 \n",
      " 4   年齡層           59388 non-null  object\n",
      " 5   信用卡交易筆數       59388 non-null  int64 \n",
      " 6   信用卡交易金額[新台幣]  59388 non-null  int64 \n",
      "dtypes: int64(5), object(2)\n",
      "memory usage: 3.2+ MB\n"
     ]
    }
   ],
   "source": [
    "data2.info()"
   ]
  },
  {
   "cell_type": "code",
   "execution_count": 10,
   "metadata": {},
   "outputs": [
    {
     "name": "stdout",
     "output_type": "stream",
     "text": [
      "年月              0\n",
      "地區              0\n",
      "產業別             0\n",
      "性別              0\n",
      "年齡層             0\n",
      "信用卡交易筆數         0\n",
      "信用卡交易金額[新台幣]    0\n",
      "dtype: int64\n"
     ]
    }
   ],
   "source": [
    "print(data1.isnull().sum()) #探索遺漏值"
   ]
  },
  {
   "cell_type": "code",
   "execution_count": 12,
   "metadata": {},
   "outputs": [
    {
     "name": "stdout",
     "output_type": "stream",
     "text": [
      "年月              0\n",
      "地區              0\n",
      "產業別             0\n",
      "性別              0\n",
      "年齡層             0\n",
      "信用卡交易筆數         0\n",
      "信用卡交易金額[新台幣]    0\n",
      "dtype: int64\n"
     ]
    }
   ],
   "source": [
    "print(data2.isnull().sum())"
   ]
  }
 ],
 "metadata": {
  "kernelspec": {
   "display_name": "Python 3",
   "language": "python",
   "name": "python3"
  },
  "language_info": {
   "codemirror_mode": {
    "name": "ipython",
    "version": 3
   },
   "file_extension": ".py",
   "mimetype": "text/x-python",
   "name": "python",
   "nbconvert_exporter": "python",
   "pygments_lexer": "ipython3",
   "version": "3.8.5"
  }
 },
 "nbformat": 4,
 "nbformat_minor": 4
}
